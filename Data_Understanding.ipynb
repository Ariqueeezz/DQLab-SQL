{
  "nbformat": 4,
  "nbformat_minor": 0,
  "metadata": {
    "colab": {
      "provenance": []
    },
    "kernelspec": {
      "name": "python3",
      "display_name": "Python 3"
    },
    "language_info": {
      "name": "python"
    }
  },
  "cells": [
    {
      "cell_type": "markdown",
      "source": [
        "# <i><b><span style='color:#55679C'> Data Understanding </span>\n",
        "\n",
        "Sebelum mempraktekan Query SQL di bawah ini pastinya kita perlu memahami tiap Data yang ada pada tiap kolom dataset.\n",
        "\n",
        "*Kenapa?*\n",
        "\n",
        "Karena bagaimana mungkin kita bisa menganalisis data jika kita tidak mengerti data yang mau kita analisis? Maka dari itu perlu bagi kita untuk memahaminya terlebih dahulu semua data yang ada pada dataset agar tidak kesulitan pada saat proses analisi datanya."
      ],
      "metadata": {
        "id": "pAVw7EFMdD3z"
      }
    },
    {
      "cell_type": "code",
      "source": [
        "from google.colab import drive\n",
        "drive.mount('/content/drive')"
      ],
      "metadata": {
        "colab": {
          "base_uri": "https://localhost:8080/"
        },
        "id": "djSUpvBYeIo7",
        "outputId": "88ff0d79-c457-4da9-a302-6946fc0f4958"
      },
      "execution_count": 1,
      "outputs": [
        {
          "output_type": "stream",
          "name": "stdout",
          "text": [
            "Mounted at /content/drive\n"
          ]
        }
      ]
    },
    {
      "cell_type": "code",
      "source": [
        "import pandas as pd\n",
        "customer_demography = pd.read_csv('/content/drive/MyDrive/dataset/telco_churn_dataset/customer_demography.csv')\n",
        "customer_location = pd.read_csv('/content/drive/MyDrive/dataset/telco_churn_dataset/customer_location.csv')\n",
        "customer_status = pd.read_csv('/content/drive/MyDrive/dataset/telco_churn_dataset/customer_status.csv')\n",
        "population = pd.read_csv('/content/drive/MyDrive/dataset/telco_churn_dataset/population.csv')\n",
        "telco_services = pd.read_csv('/content/drive/MyDrive/dataset/telco_churn_dataset/telco_services.csv')"
      ],
      "metadata": {
        "id": "RhIGnlG1eSd0"
      },
      "execution_count": 3,
      "outputs": []
    },
    {
      "cell_type": "markdown",
      "source": [
        "## Telco Churn Dataset\n"
      ],
      "metadata": {
        "id": "GCLKMNxBi34c"
      }
    },
    {
      "cell_type": "markdown",
      "source": [
        "### telco_services"
      ],
      "metadata": {
        "id": "RmZntPkkflMl"
      }
    },
    {
      "cell_type": "code",
      "source": [
        "telco_services.info()"
      ],
      "metadata": {
        "colab": {
          "base_uri": "https://localhost:8080/"
        },
        "id": "3UH1rS6vfHpM",
        "outputId": "9a7beff5-8cd3-431c-fc19-bea54e25540c"
      },
      "execution_count": 5,
      "outputs": [
        {
          "output_type": "stream",
          "name": "stdout",
          "text": [
            "<class 'pandas.core.frame.DataFrame'>\n",
            "RangeIndex: 7043 entries, 0 to 7042\n",
            "Data columns (total 28 columns):\n",
            " #   Column                             Non-Null Count  Dtype  \n",
            "---  ------                             --------------  -----  \n",
            " 0   customer_id                        7043 non-null   object \n",
            " 1   referred_a_friend                  7043 non-null   object \n",
            " 2   number_of_referrals                7043 non-null   int64  \n",
            " 3   tenure_in_months                   7043 non-null   int64  \n",
            " 4   offer                              3166 non-null   object \n",
            " 5   phone_service                      7043 non-null   object \n",
            " 6   avg_monthly_long_distance_charges  7043 non-null   float64\n",
            " 7   multiple_lines                     7043 non-null   object \n",
            " 8   internet_service                   7043 non-null   object \n",
            " 9   internet_type                      5517 non-null   object \n",
            " 10  avg_monthly_gb_download            7043 non-null   int64  \n",
            " 11  online_security                    7043 non-null   object \n",
            " 12  online_backup                      7043 non-null   object \n",
            " 13  device_protection_plan             7043 non-null   object \n",
            " 14  premium_tech_support               7043 non-null   object \n",
            " 15  streaming_tv                       7043 non-null   object \n",
            " 16  streaming_movies                   7043 non-null   object \n",
            " 17  streaming_music                    7043 non-null   object \n",
            " 18  unlimited_data                     7043 non-null   object \n",
            " 19  contract                           7043 non-null   object \n",
            " 20  paperless_billing                  7043 non-null   object \n",
            " 21  payment_method                     7043 non-null   object \n",
            " 22  monthly_charge                     7043 non-null   float64\n",
            " 23  total_charges                      7043 non-null   float64\n",
            " 24  total_refunds                      7043 non-null   float64\n",
            " 25  total_extra_data_charges           7043 non-null   int64  \n",
            " 26  total_long_distance_charges        7043 non-null   float64\n",
            " 27  total_revenue                      7043 non-null   float64\n",
            "dtypes: float64(6), int64(4), object(18)\n",
            "memory usage: 1.5+ MB\n"
          ]
        }
      ]
    },
    {
      "cell_type": "markdown",
      "source": [
        "Dataset telco_services memiliki 28 kolom dengan total 7.043 entri. Berikut penjelasan masing-masing kolomnya:\n",
        "\n",
        "1. customer_id: ID unik setiap pelanggan.\n",
        "2. referred_a_friend: Apakah pelanggan mereferensikan teman? (\"Yes\"/\"No\").\n",
        "3. number_of_referrals: Jumlah teman yang direferensikan.\n",
        "4. tenure_in_months: Lama pelanggan berlangganan dalam bulan.\n",
        "5. offer: Promo atau penawaran yang diberikan ke pelanggan.\n",
        "6. phone_service: Apakah pelanggan memiliki layanan telepon? (\"Yes\"/\"No\").\n",
        "7. avg_monthly_long_distance_charges: Biaya rata-rata panggilan jarak jauh per bulan.\n",
        "8. multiple_lines: Apakah pelanggan memiliki lebih dari satu jalur telepon? (\"Yes\"/\"No\").\n",
        "9. internet_service: Apakah pelanggan memiliki layanan internet? (\"Yes\"/\"No\").\n",
        "10. internet_type: Jenis layanan internet yang digunakan (DSL, Fiber Optic, dll.).\n",
        "11. avg_monthly_gb_download: Rata-rata jumlah data yang diunduh per bulan (GB).\n",
        "12. online_security: Apakah pelanggan memiliki layanan keamanan online? (\"Yes\"/\"No\").\n",
        "13. online_backup: Apakah pelanggan memiliki layanan backup online? (\"Yes\"/\"No\").\n",
        "14. device_protection_plan: Apakah pelanggan memiliki perlindungan perangkat? (\"Yes\"/\"No\").\n",
        "15. premium_tech_support: Apakah pelanggan memiliki layanan dukungan teknis premium? (\"Yes\"/\"No\").\n",
        "16. streaming_tv: Apakah pelanggan memiliki layanan streaming TV? (\"Yes\"/\"No\").\n",
        "17. streaming_movies: Apakah pelanggan memiliki layanan streaming film? (\"Yes\"/\"No\").\n",
        "18. streaming_music: Apakah pelanggan memiliki layanan streaming musik? (\"Yes\"/\"No\").\n",
        "19. unlimited_data: Apakah pelanggan memiliki paket data tanpa batas? (\"Yes\"/\"No\").\n",
        "20. contract: Jenis kontrak pelanggan (Month-to-Month, 1-Year, 2-Year).\n",
        "21. paperless_billing: Apakah pelanggan menggunakan tagihan elektronik? (\"Yes\"/\"No\").\n",
        "22. payment_method: Metode pembayaran yang digunakan (Bank Withdrawal, Credit Card, dll.).\n",
        "23. monthly_charge: Total biaya bulanan yang dikenakan ke pelanggan.\n",
        "24. total_charges: Total biaya yang telah dibayarkan oleh pelanggan sejak pertama berlangganan.\n",
        "25. total_refunds: Total pengembalian dana yang diterima pelanggan.\n",
        "total_extra_data_charges: Total biaya tambahan untuk penggunaan data di luar paket.\n",
        "26. total_long_distance_charges: Total biaya panggilan jarak jauh yang telah dikenakan.\n",
        "27. total_revenue: Total pendapatan yang diperoleh dari pelanggan.\n",
        "\n",
        "\n",
        "Ket: Beberapa kolom seperti offer dan internet_type memiliki nilai null karena mungkin tidak semua pelanggan menerima promo atau memiliki layanan internet."
      ],
      "metadata": {
        "id": "zd2cgw0DgYqC"
      }
    },
    {
      "cell_type": "markdown",
      "source": [
        "### customer_status"
      ],
      "metadata": {
        "id": "EDVLObV2hTgV"
      }
    },
    {
      "cell_type": "code",
      "source": [
        "customer_status.info()"
      ],
      "metadata": {
        "colab": {
          "base_uri": "https://localhost:8080/"
        },
        "id": "PYwSBzmcgTKT",
        "outputId": "0a54b06b-f2ba-4450-e655-4c8f1270b8db"
      },
      "execution_count": 6,
      "outputs": [
        {
          "output_type": "stream",
          "name": "stdout",
          "text": [
            "<class 'pandas.core.frame.DataFrame'>\n",
            "RangeIndex: 7043 entries, 0 to 7042\n",
            "Data columns (total 8 columns):\n",
            " #   Column              Non-Null Count  Dtype \n",
            "---  ------              --------------  ----- \n",
            " 0   customer_id         7043 non-null   object\n",
            " 1   satisfaction_score  7043 non-null   int64 \n",
            " 2   status              7043 non-null   object\n",
            " 3   churn_label         7043 non-null   object\n",
            " 4   churn_score         7043 non-null   int64 \n",
            " 5   cltv                7043 non-null   int64 \n",
            " 6   churn_category      1869 non-null   object\n",
            " 7   churn_reason        1869 non-null   object\n",
            "dtypes: int64(3), object(5)\n",
            "memory usage: 440.3+ KB\n"
          ]
        }
      ]
    },
    {
      "cell_type": "markdown",
      "source": [
        "Dataset customer_status memiliki 8 kolom dengan total 7.043 entri. Berikut penjelasan masing-masing kolomnya:\n",
        "\n",
        "1. customer_id: ID unik setiap pelanggan.\n",
        "2. satisfaction_score: Skor kepuasan pelanggan (skala tertentu, misalnya 1–5).\n",
        "3. status: Status pelanggan saat ini (Active, Churned, dll.).\n",
        "4. churn_label: Indikasi apakah pelanggan sudah berhenti berlangganan (\"Yes\"/\"No\").\n",
        "5. churn_score: Skor probabilitas pelanggan berhenti berlangganan (semakin tinggi, semakin berisiko churn).\n",
        "6. cltv (Customer Lifetime Value): Nilai pelanggan dalam jangka panjang bagi perusahaan.\n",
        "7. churn_category: Kategori alasan pelanggan berhenti berlangganan (Competitor, Dissatisfaction, dll.).\n",
        "8. churn_reason: Alasan spesifik mengapa pelanggan berhenti berlangganan.\n",
        "\n",
        "\n",
        "Ket: Kolom churn_category dan churn_reason memiliki banyak nilai null, kemungkinan karena pelanggan yang masih aktif tidak memiliki alasan churn."
      ],
      "metadata": {
        "id": "fhcYDNFUhzl0"
      }
    },
    {
      "cell_type": "markdown",
      "source": [
        "### customer_demography"
      ],
      "metadata": {
        "id": "BbWrg5_JiF74"
      }
    },
    {
      "cell_type": "code",
      "source": [
        "customer_demography.info()"
      ],
      "metadata": {
        "colab": {
          "base_uri": "https://localhost:8080/"
        },
        "id": "hOj3BYpQhYmx",
        "outputId": "11524df6-c854-4294-8903-0d924b495185"
      },
      "execution_count": 7,
      "outputs": [
        {
          "output_type": "stream",
          "name": "stdout",
          "text": [
            "<class 'pandas.core.frame.DataFrame'>\n",
            "RangeIndex: 7043 entries, 0 to 7042\n",
            "Data columns (total 6 columns):\n",
            " #   Column                Non-Null Count  Dtype \n",
            "---  ------                --------------  ----- \n",
            " 0   customer_id           7043 non-null   object\n",
            " 1   gender                7043 non-null   object\n",
            " 2   age                   7043 non-null   int64 \n",
            " 3   senior_citizen        7043 non-null   object\n",
            " 4   married               7043 non-null   object\n",
            " 5   number_of_dependents  7043 non-null   int64 \n",
            "dtypes: int64(2), object(4)\n",
            "memory usage: 330.3+ KB\n"
          ]
        }
      ]
    },
    {
      "cell_type": "markdown",
      "source": [
        "Dataset customer_demography memiliki 6 kolom dengan total 7.043 entri. Berikut penjelasan masing-masing kolomnya:\n",
        "\n",
        "1. customer_id: ID unik setiap pelanggan.\n",
        "2. gender: Jenis kelamin pelanggan (\"Male\"/\"Female\").\n",
        "3. age: Usia pelanggan dalam tahun.\n",
        "4. senior_citizen: Apakah pelanggan termasuk warga senior (biasanya ≥ 65 tahun) (\"Yes\"/\"No\").\n",
        "5. married: Status pernikahan pelanggan (\"Yes\"/\"No\").\n",
        "6. number_of_dependents: Jumlah tanggungan yang dimiliki pelanggan."
      ],
      "metadata": {
        "id": "Hljr6XE0iLsm"
      }
    },
    {
      "cell_type": "markdown",
      "source": [
        "### customer_location"
      ],
      "metadata": {
        "id": "P9ra3jifiVV3"
      }
    },
    {
      "cell_type": "code",
      "source": [
        "customer_location.info()"
      ],
      "metadata": {
        "colab": {
          "base_uri": "https://localhost:8080/"
        },
        "id": "qO9B-2l5iK5S",
        "outputId": "a1f9a864-77d8-4ef5-b6cf-ea30cd2a13fc"
      },
      "execution_count": 8,
      "outputs": [
        {
          "output_type": "stream",
          "name": "stdout",
          "text": [
            "<class 'pandas.core.frame.DataFrame'>\n",
            "RangeIndex: 7043 entries, 0 to 7042\n",
            "Data columns (total 7 columns):\n",
            " #   Column       Non-Null Count  Dtype  \n",
            "---  ------       --------------  -----  \n",
            " 0   customer_id  7043 non-null   object \n",
            " 1   country      7043 non-null   object \n",
            " 2   state        7043 non-null   object \n",
            " 3   city         7043 non-null   object \n",
            " 4   zip_code     7043 non-null   int64  \n",
            " 5   latitude     7043 non-null   float64\n",
            " 6   longitude    7043 non-null   float64\n",
            "dtypes: float64(2), int64(1), object(4)\n",
            "memory usage: 385.3+ KB\n"
          ]
        }
      ]
    },
    {
      "cell_type": "markdown",
      "source": [
        "Dataset customer_location memiliki 7 kolom dengan total 7.043 entri. Berikut penjelasan masing-masing kolomnya:\n",
        "\n",
        "1. customer_id: ID unik setiap pelanggan.\n",
        "2. country: Negara tempat pelanggan berada.\n",
        "3. state: Negara bagian atau provinsi tempat pelanggan tinggal.\n",
        "4. city: Kota tempat pelanggan tinggal.\n",
        "5. zip_code: Kode pos wilayah tempat pelanggan tinggal.\n",
        "6. latitude: Koordinat garis lintang lokasi pelanggan.\n",
        "7. longitude: Koordinat garis bujur lokasi pelanggan."
      ],
      "metadata": {
        "id": "eEioJB23ipou"
      }
    },
    {
      "cell_type": "markdown",
      "source": [
        "### population"
      ],
      "metadata": {
        "id": "7zh_hRBkix1C"
      }
    },
    {
      "cell_type": "code",
      "source": [
        "population.info()"
      ],
      "metadata": {
        "colab": {
          "base_uri": "https://localhost:8080/"
        },
        "id": "8SrkNyUXinmP",
        "outputId": "470e9dc7-1f09-4bfc-e069-b1f2700e63b1"
      },
      "execution_count": 10,
      "outputs": [
        {
          "output_type": "stream",
          "name": "stdout",
          "text": [
            "<class 'pandas.core.frame.DataFrame'>\n",
            "RangeIndex: 1671 entries, 0 to 1670\n",
            "Data columns (total 3 columns):\n",
            " #   Column         Non-Null Count  Dtype\n",
            "---  ------         --------------  -----\n",
            " 0   population_id  1671 non-null   int64\n",
            " 1   zip_code       1671 non-null   int64\n",
            " 2   population     1671 non-null   int64\n",
            "dtypes: int64(3)\n",
            "memory usage: 39.3 KB\n"
          ]
        }
      ]
    },
    {
      "cell_type": "markdown",
      "source": [
        "Dataset population memiliki 3 kolom dengan total 1.671 entri. Berikut penjelasan masing-masing kolomnya:\n",
        "\n",
        "1. population_id: ID unik untuk setiap data populasi.\n",
        "2. zip_code: Kode pos wilayah yang terkait dengan data populasi.\n",
        "3. population: Jumlah total populasi di wilayah dengan kode pos tersebut."
      ],
      "metadata": {
        "id": "Tgs2Lgi2jAPZ"
      }
    }
  ]
}